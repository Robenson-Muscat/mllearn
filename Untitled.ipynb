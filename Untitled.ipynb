{
 "cells": [
  {
   "cell_type": "code",
   "execution_count": 1,
   "id": "832d1e22",
   "metadata": {},
   "outputs": [],
   "source": [
    "import os\n",
    "\n",
    "\n",
    "filename = \"pts EC Orgère-Barbier Altitude.shp\"\n",
    "abs_path = os.path.abspath(filename)\n",
    "    "
   ]
  },
  {
   "cell_type": "code",
   "execution_count": 2,
   "id": "c8978ced",
   "metadata": {},
   "outputs": [
    {
     "name": "stdout",
     "output_type": "stream",
     "text": [
      "C:\\Users\\Galaxy Tab\\mllearn\\pts EC Orgère-Barbier Altitude.shp\n"
     ]
    }
   ],
   "source": [
    "print(abs_path)"
   ]
  },
  {
   "cell_type": "code",
   "execution_count": 3,
   "id": "533b6f41",
   "metadata": {},
   "outputs": [
    {
     "data": {
      "text/plain": [
       "'pts EC Orgère-Barbier Altitude.shp'"
      ]
     },
     "execution_count": 3,
     "metadata": {},
     "output_type": "execute_result"
    }
   ],
   "source": [
    "os.path.basename(abs_path)"
   ]
  },
  {
   "cell_type": "code",
   "execution_count": 5,
   "id": "313c82c7",
   "metadata": {},
   "outputs": [
    {
     "data": {
      "text/plain": [
       "'Barbier Altitude.shp'"
      ]
     },
     "execution_count": 5,
     "metadata": {},
     "output_type": "execute_result"
    }
   ],
   "source": [
    "os.path.basename(abs_path).split('-')[-1]"
   ]
  },
  {
   "cell_type": "code",
   "execution_count": 6,
   "id": "826d31d7",
   "metadata": {},
   "outputs": [
    {
     "data": {
      "text/plain": [
       "'C:\\\\Users\\\\Galaxy Tab\\\\mllearn'"
      ]
     },
     "execution_count": 6,
     "metadata": {},
     "output_type": "execute_result"
    }
   ],
   "source": [
    "os.path.dirname(abs_path)"
   ]
  },
  {
   "cell_type": "code",
   "execution_count": 7,
   "id": "18ba8406",
   "metadata": {},
   "outputs": [
    {
     "name": "stdout",
     "output_type": "stream",
     "text": [
      "C:\\Users\\Galaxy Tab\\mllearn\n",
      "C:\\Users\\Galaxy Tab\\mllearn\\.gitignore\n",
      "C:\\Users\\Galaxy Tab\\mllearn\\file_tree.ipynb\n",
      "C:\\Users\\Galaxy Tab\\mllearn\\file_tree.py\n",
      "C:\\Users\\Galaxy Tab\\mllearn\\README.md\n",
      "C:\\Users\\Galaxy Tab\\mllearn\\Stage leçons.docx\n",
      "C:\\Users\\Galaxy Tab\\mllearn\\Untitled.ipynb\n",
      "C:\\Users\\Galaxy Tab\\mllearn\\.git\n",
      "C:\\Users\\Galaxy Tab\\mllearn\\.git\\config\n",
      "C:\\Users\\Galaxy Tab\\mllearn\\.git\\description\n",
      "C:\\Users\\Galaxy Tab\\mllearn\\.git\\HEAD\n",
      "C:\\Users\\Galaxy Tab\\mllearn\\.git\\index\n",
      "C:\\Users\\Galaxy Tab\\mllearn\\.git\\packed-refs\n",
      "C:\\Users\\Galaxy Tab\\mllearn\\.git\\hooks\n",
      "C:\\Users\\Galaxy Tab\\mllearn\\.git\\hooks\\applypatch-msg.sample\n",
      "C:\\Users\\Galaxy Tab\\mllearn\\.git\\hooks\\commit-msg.sample\n",
      "C:\\Users\\Galaxy Tab\\mllearn\\.git\\hooks\\fsmonitor-watchman.sample\n",
      "C:\\Users\\Galaxy Tab\\mllearn\\.git\\hooks\\post-update.sample\n",
      "C:\\Users\\Galaxy Tab\\mllearn\\.git\\hooks\\pre-applypatch.sample\n",
      "C:\\Users\\Galaxy Tab\\mllearn\\.git\\hooks\\pre-commit.sample\n",
      "C:\\Users\\Galaxy Tab\\mllearn\\.git\\hooks\\pre-merge-commit.sample\n",
      "C:\\Users\\Galaxy Tab\\mllearn\\.git\\hooks\\pre-push.sample\n",
      "C:\\Users\\Galaxy Tab\\mllearn\\.git\\hooks\\pre-rebase.sample\n",
      "C:\\Users\\Galaxy Tab\\mllearn\\.git\\hooks\\pre-receive.sample\n",
      "C:\\Users\\Galaxy Tab\\mllearn\\.git\\hooks\\prepare-commit-msg.sample\n",
      "C:\\Users\\Galaxy Tab\\mllearn\\.git\\hooks\\push-to-checkout.sample\n",
      "C:\\Users\\Galaxy Tab\\mllearn\\.git\\hooks\\sendemail-validate.sample\n",
      "C:\\Users\\Galaxy Tab\\mllearn\\.git\\hooks\\update.sample\n",
      "C:\\Users\\Galaxy Tab\\mllearn\\.git\\info\n",
      "C:\\Users\\Galaxy Tab\\mllearn\\.git\\info\\exclude\n",
      "C:\\Users\\Galaxy Tab\\mllearn\\.git\\logs\n",
      "C:\\Users\\Galaxy Tab\\mllearn\\.git\\logs\\HEAD\n",
      "C:\\Users\\Galaxy Tab\\mllearn\\.git\\logs\\refs\n",
      "C:\\Users\\Galaxy Tab\\mllearn\\.git\\logs\\refs\\heads\n",
      "C:\\Users\\Galaxy Tab\\mllearn\\.git\\logs\\refs\\heads\\main\n",
      "C:\\Users\\Galaxy Tab\\mllearn\\.git\\logs\\refs\\remotes\n",
      "C:\\Users\\Galaxy Tab\\mllearn\\.git\\logs\\refs\\remotes\\origin\n",
      "C:\\Users\\Galaxy Tab\\mllearn\\.git\\logs\\refs\\remotes\\origin\\HEAD\n",
      "C:\\Users\\Galaxy Tab\\mllearn\\.git\\objects\n",
      "C:\\Users\\Galaxy Tab\\mllearn\\.git\\objects\\info\n",
      "C:\\Users\\Galaxy Tab\\mllearn\\.git\\objects\\pack\n",
      "C:\\Users\\Galaxy Tab\\mllearn\\.git\\objects\\pack\\pack-eddda2c112c0ae2c8efa6356b25d0d0119cc8952.idx\n",
      "C:\\Users\\Galaxy Tab\\mllearn\\.git\\objects\\pack\\pack-eddda2c112c0ae2c8efa6356b25d0d0119cc8952.pack\n",
      "C:\\Users\\Galaxy Tab\\mllearn\\.git\\objects\\pack\\pack-eddda2c112c0ae2c8efa6356b25d0d0119cc8952.rev\n",
      "C:\\Users\\Galaxy Tab\\mllearn\\.git\\refs\n",
      "C:\\Users\\Galaxy Tab\\mllearn\\.git\\refs\\heads\n",
      "C:\\Users\\Galaxy Tab\\mllearn\\.git\\refs\\heads\\main\n",
      "C:\\Users\\Galaxy Tab\\mllearn\\.git\\refs\\remotes\n",
      "C:\\Users\\Galaxy Tab\\mllearn\\.git\\refs\\remotes\\origin\n",
      "C:\\Users\\Galaxy Tab\\mllearn\\.git\\refs\\remotes\\origin\\HEAD\n",
      "C:\\Users\\Galaxy Tab\\mllearn\\.git\\refs\\tags\n",
      "C:\\Users\\Galaxy Tab\\mllearn\\.ipynb_checkpoints\n",
      "C:\\Users\\Galaxy Tab\\mllearn\\.ipynb_checkpoints\\Untitled-checkpoint.ipynb\n"
     ]
    }
   ],
   "source": [
    "import os\n",
    "\n",
    "def get_file_tree(filename):\n",
    "    # Obtient le chemin absolu du fichier\n",
    "    abs_path = os.path.abspath(filename)\n",
    "    \n",
    "    # Obtient le nom du fichier\n",
    "    file_name = os.path.basename(abs_path)\n",
    "    \n",
    "    # Obtient le chemin du répertoire contenant le fichier\n",
    "    directory = os.path.dirname(abs_path)\n",
    "    \n",
    "    # Obtient l'arborescence du répertoire\n",
    "    tree = []\n",
    "    for dirpath, dirnames, filenames in os.walk(directory):\n",
    "        tree.append(dirpath)\n",
    "        tree.extend(os.path.join(dirpath, f) for f in filenames)\n",
    "    \n",
    "    return tree\n",
    "\n",
    "# Utilisation de la fonction pour obtenir l'arborescence du fichier 'example.txt'\n",
    "filename = \"pts EC Orgère-Barbier Altitude.shp\"\n",
    "file_tree = get_file_tree(filename)\n",
    "\n",
    "# Affichage de l'arborescence\n",
    "for item in file_tree:\n",
    "    print(item)\n"
   ]
  },
  {
   "cell_type": "code",
   "execution_count": 8,
   "id": "285cc5a2",
   "metadata": {},
   "outputs": [
    {
     "name": "stdout",
     "output_type": "stream",
     "text": [
      "Répertoire courant: C:\\Users\\Galaxy Tab\\mllearn\n"
     ]
    }
   ],
   "source": [
    "import os\n",
    "\n",
    "repertoire_courant = os.getcwd()\n",
    "print(\"Répertoire courant:\", repertoire_courant)\n"
   ]
  },
  {
   "cell_type": "code",
   "execution_count": 15,
   "id": "0e50c5d0",
   "metadata": {},
   "outputs": [
    {
     "data": {
      "text/plain": [
       "'C:\\\\Users\\\\Galaxy Tab\\\\mllearn\\\\memo.docx'"
      ]
     },
     "execution_count": 15,
     "metadata": {},
     "output_type": "execute_result"
    }
   ],
   "source": [
    "os.path.abspath(\"memo.docx\")"
   ]
  },
  {
   "cell_type": "code",
   "execution_count": 13,
   "id": "cd733d92",
   "metadata": {},
   "outputs": [
    {
     "data": {
      "text/plain": [
       "'pts EC Orgère-Barbier Altitude.shp'"
      ]
     },
     "execution_count": 13,
     "metadata": {},
     "output_type": "execute_result"
    }
   ],
   "source": [
    "filename"
   ]
  },
  {
   "cell_type": "code",
   "execution_count": 18,
   "id": "10fb9147",
   "metadata": {},
   "outputs": [
    {
     "name": "stdout",
     "output_type": "stream",
     "text": [
      "Le fichier n'a pas été trouvé dans le système.\n"
     ]
    }
   ],
   "source": [
    "import os\n",
    "\n",
    "def trouver_repertoire(nom_fichier):\n",
    "    for repertoire, sous_repertoires, fichiers in os.walk('.'):\n",
    "        if nom_fichier in fichiers:\n",
    "            chemin_absolu = os.path.abspath(os.path.join(repertoire, nom_fichier))\n",
    "            return os.path.dirname(chemin_absolu)\n",
    "\n",
    "# Nom du fichier dont vous recherchez le répertoire\n",
    "filename = \"pts EC Orgère-Barbier Altitude.shp\"\n",
    "\n",
    "# Appel de la fonction pour trouver le répertoire du fichier\n",
    "repertoire_fichier = trouver_repertoire(filename)\n",
    "\n",
    "if repertoire_fichier:\n",
    "    print(\"Répertoire du fichier:\", repertoire_fichier)\n",
    "else:\n",
    "    print(\"Le fichier n'a pas été trouvé dans le système.\")\n"
   ]
  },
  {
   "cell_type": "code",
   "execution_count": 19,
   "id": "ee48e140",
   "metadata": {},
   "outputs": [
    {
     "name": "stdout",
     "output_type": "stream",
     "text": [
      "Répertoire du fichier: C:\\Users\\Galaxy Tab\\OneDrive\\Documents\\Github\n"
     ]
    }
   ],
   "source": [
    "import os\n",
    "\n",
    "def trouver_repertoire(nom_fichier):\n",
    "    for repertoire, sous_repertoires, fichiers in os.walk('/'):\n",
    "        if nom_fichier in fichiers:\n",
    "            chemin_absolu = os.path.abspath(os.path.join(repertoire, nom_fichier))\n",
    "            return os.path.dirname(chemin_absolu)\n",
    "\n",
    "# Nom du fichier dont vous recherchez le répertoire\n",
    "filename = \"memo git.docx\"\n",
    "\n",
    "# Appel de la fonction pour trouver le répertoire du fichier\n",
    "repertoire_fichier = trouver_repertoire(filename)\n",
    "\n",
    "if repertoire_fichier:\n",
    "    print(\"Répertoire du fichier:\", repertoire_fichier)\n",
    "else:\n",
    "    print(\"Le fichier n'a pas été trouvé dans le système.\")\n"
   ]
  },
  {
   "cell_type": "code",
   "execution_count": 20,
   "id": "b5c59a2d",
   "metadata": {},
   "outputs": [
    {
     "name": "stdout",
     "output_type": "stream",
     "text": [
      ".\\.gitignore\n",
      ".\\file_tree.ipynb\n",
      ".\\file_tree.py\n",
      ".\\README.md\n",
      ".\\Stage leçons.docx\n",
      ".\\Untitled.ipynb\n",
      ".\\.git\\COMMIT_EDITMSG\n",
      ".\\.git\\config\n",
      ".\\.git\\description\n",
      ".\\.git\\HEAD\n",
      ".\\.git\\index\n",
      ".\\.git\\packed-refs\n",
      ".\\.git\\hooks\\applypatch-msg.sample\n",
      ".\\.git\\hooks\\commit-msg.sample\n",
      ".\\.git\\hooks\\fsmonitor-watchman.sample\n",
      ".\\.git\\hooks\\post-update.sample\n",
      ".\\.git\\hooks\\pre-applypatch.sample\n",
      ".\\.git\\hooks\\pre-commit.sample\n",
      ".\\.git\\hooks\\pre-merge-commit.sample\n",
      ".\\.git\\hooks\\pre-push.sample\n",
      ".\\.git\\hooks\\pre-rebase.sample\n",
      ".\\.git\\hooks\\pre-receive.sample\n",
      ".\\.git\\hooks\\prepare-commit-msg.sample\n",
      ".\\.git\\hooks\\push-to-checkout.sample\n",
      ".\\.git\\hooks\\sendemail-validate.sample\n",
      ".\\.git\\hooks\\update.sample\n",
      ".\\.git\\info\\exclude\n",
      ".\\.git\\logs\\HEAD\n",
      ".\\.git\\logs\\refs\\heads\\main\n",
      ".\\.git\\logs\\refs\\remotes\\origin\\HEAD\n",
      ".\\.git\\logs\\refs\\remotes\\origin\\main\n",
      ".\\.git\\objects\\18\\2a2c3a34d015f68e5f354e91891c6cc1ff5982\n",
      ".\\.git\\objects\\28\\cfe676d81ddd805bca26aacd3329e89ccfce42\n",
      ".\\.git\\objects\\6e\\4cab930925668a374e22a43e9ea783c66f34ff\n",
      ".\\.git\\objects\\6f\\49c832c128f39d1a0e438874a39e679fbb08cc\n",
      ".\\.git\\objects\\85\\58ab5b386ddbaeb1dfda9b82bf22cd6b7e9438\n",
      ".\\.git\\objects\\85\\f4deeab02d3db59a4989311395ce9e207f48e2\n",
      ".\\.git\\objects\\a3\\87a6f6fed7e2bcf122bfcbb67822943f6fb041\n",
      ".\\.git\\objects\\ee\\c5d358c769163015a925d4b11dbc26010519c2\n",
      ".\\.git\\objects\\pack\\pack-eddda2c112c0ae2c8efa6356b25d0d0119cc8952.idx\n",
      ".\\.git\\objects\\pack\\pack-eddda2c112c0ae2c8efa6356b25d0d0119cc8952.pack\n",
      ".\\.git\\objects\\pack\\pack-eddda2c112c0ae2c8efa6356b25d0d0119cc8952.rev\n",
      ".\\.git\\refs\\heads\\main\n",
      ".\\.git\\refs\\remotes\\origin\\HEAD\n",
      ".\\.git\\refs\\remotes\\origin\\main\n",
      ".\\.ipynb_checkpoints\\Untitled-checkpoint.ipynb\n"
     ]
    }
   ],
   "source": [
    "for dirname, _,filenames in os.walk('.'):\n",
    "    for filename in filenames:\n",
    "        \n",
    "        print(os.path.join(dirname,filename))\n",
    "        \n"
   ]
  },
  {
   "cell_type": "code",
   "execution_count": 21,
   "id": "81f3c69b",
   "metadata": {},
   "outputs": [
    {
     "name": "stdout",
     "output_type": "stream",
     "text": [
      ".\\.gitignore\n",
      ".\\file_tree.ipynb\n",
      ".\\file_tree.py\n",
      ".\\README.md\n",
      ".\\Stage leçons.docx\n",
      ".\\Untitled.ipynb\n",
      ".\\.git\\COMMIT_EDITMSG\n",
      ".\\.git\\config\n",
      ".\\.git\\description\n",
      ".\\.git\\HEAD\n",
      ".\\.git\\index\n",
      ".\\.git\\packed-refs\n",
      ".\\.git\\hooks\\applypatch-msg.sample\n",
      ".\\.git\\hooks\\commit-msg.sample\n",
      ".\\.git\\hooks\\fsmonitor-watchman.sample\n",
      ".\\.git\\hooks\\post-update.sample\n",
      ".\\.git\\hooks\\pre-applypatch.sample\n",
      ".\\.git\\hooks\\pre-commit.sample\n",
      ".\\.git\\hooks\\pre-merge-commit.sample\n",
      ".\\.git\\hooks\\pre-push.sample\n",
      ".\\.git\\hooks\\pre-rebase.sample\n",
      ".\\.git\\hooks\\pre-receive.sample\n",
      ".\\.git\\hooks\\prepare-commit-msg.sample\n",
      ".\\.git\\hooks\\push-to-checkout.sample\n",
      ".\\.git\\hooks\\sendemail-validate.sample\n",
      ".\\.git\\hooks\\update.sample\n",
      ".\\.git\\info\\exclude\n",
      ".\\.git\\logs\\HEAD\n",
      ".\\.git\\logs\\refs\\heads\\main\n",
      ".\\.git\\logs\\refs\\remotes\\origin\\HEAD\n",
      ".\\.git\\logs\\refs\\remotes\\origin\\main\n",
      ".\\.git\\objects\\18\\2a2c3a34d015f68e5f354e91891c6cc1ff5982\n",
      ".\\.git\\objects\\28\\cfe676d81ddd805bca26aacd3329e89ccfce42\n",
      ".\\.git\\objects\\6e\\4cab930925668a374e22a43e9ea783c66f34ff\n",
      ".\\.git\\objects\\6f\\49c832c128f39d1a0e438874a39e679fbb08cc\n",
      ".\\.git\\objects\\85\\58ab5b386ddbaeb1dfda9b82bf22cd6b7e9438\n",
      ".\\.git\\objects\\85\\f4deeab02d3db59a4989311395ce9e207f48e2\n",
      ".\\.git\\objects\\a3\\87a6f6fed7e2bcf122bfcbb67822943f6fb041\n",
      ".\\.git\\objects\\ee\\c5d358c769163015a925d4b11dbc26010519c2\n",
      ".\\.git\\objects\\pack\\pack-eddda2c112c0ae2c8efa6356b25d0d0119cc8952.idx\n",
      ".\\.git\\objects\\pack\\pack-eddda2c112c0ae2c8efa6356b25d0d0119cc8952.pack\n",
      ".\\.git\\objects\\pack\\pack-eddda2c112c0ae2c8efa6356b25d0d0119cc8952.rev\n",
      ".\\.git\\refs\\heads\\main\n",
      ".\\.git\\refs\\remotes\\origin\\HEAD\n",
      ".\\.git\\refs\\remotes\\origin\\main\n",
      ".\\.ipynb_checkpoints\\Untitled-checkpoint.ipynb\n"
     ]
    }
   ],
   "source": [
    "for dirname, _,filenames in os.walk('.'):\n",
    "    for filename in filenames:\n",
    "        \n",
    "        print(os.path.join(dirname,filename))"
   ]
  },
  {
   "cell_type": "code",
   "execution_count": null,
   "id": "7eb25181",
   "metadata": {},
   "outputs": [],
   "source": []
  }
 ],
 "metadata": {
  "kernelspec": {
   "display_name": "Python 3 (ipykernel)",
   "language": "python",
   "name": "python3"
  },
  "language_info": {
   "codemirror_mode": {
    "name": "ipython",
    "version": 3
   },
   "file_extension": ".py",
   "mimetype": "text/x-python",
   "name": "python",
   "nbconvert_exporter": "python",
   "pygments_lexer": "ipython3",
   "version": "3.9.13"
  }
 },
 "nbformat": 4,
 "nbformat_minor": 5
}
