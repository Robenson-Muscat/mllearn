{
 "cells": [
  {
   "cell_type": "code",
   "execution_count": 1,
   "id": "bf71d5b8",
   "metadata": {},
   "outputs": [],
   "source": [
    "import os\n",
    "\n",
    "\n",
    "filename = \"pts EC Orgère-Barbier Altitude.shp\"\n",
    "abs_path = os.path.abspath(filename)\n",
    "    "
   ]
  },
  {
   "cell_type": "code",
   "execution_count": 2,
   "id": "aff80d57",
   "metadata": {},
   "outputs": [
    {
     "name": "stdout",
     "output_type": "stream",
     "text": [
      "C:\\Users\\Galaxy Tab\\mllearn\\pts EC Orgère-Barbier Altitude.shp\n"
     ]
    }
   ],
   "source": [
    "print(abs_path)"
   ]
  },
  {
   "cell_type": "code",
   "execution_count": 3,
   "id": "73fbca1e",
   "metadata": {},
   "outputs": [
    {
     "data": {
      "text/plain": [
       "'pts EC Orgère-Barbier Altitude.shp'"
      ]
     },
     "execution_count": 3,
     "metadata": {},
     "output_type": "execute_result"
    }
   ],
   "source": [
    "os.path.basename(abs_path)"
   ]
  },
  {
   "cell_type": "code",
   "execution_count": 5,
   "id": "6eecbf71",
   "metadata": {},
   "outputs": [
    {
     "data": {
      "text/plain": [
       "'Barbier Altitude.shp'"
      ]
     },
     "execution_count": 5,
     "metadata": {},
     "output_type": "execute_result"
    }
   ],
   "source": [
    "os.path.basename(abs_path).split('-')[-1]"
   ]
  },
  {
   "cell_type": "code",
   "execution_count": 6,
   "id": "6a3f5101",
   "metadata": {},
   "outputs": [
    {
     "data": {
      "text/plain": [
       "'C:\\\\Users\\\\Galaxy Tab\\\\mllearn'"
      ]
     },
     "execution_count": 6,
     "metadata": {},
     "output_type": "execute_result"
    }
   ],
   "source": [
    "os.path.dirname(abs_path)"
   ]
  },
  {
   "cell_type": "code",
   "execution_count": 7,
   "id": "8b79a112",
   "metadata": {},
   "outputs": [
    {
     "name": "stdout",
     "output_type": "stream",
     "text": [
      "C:\\Users\\Galaxy Tab\\mllearn\n",
      "C:\\Users\\Galaxy Tab\\mllearn\\.gitignore\n",
      "C:\\Users\\Galaxy Tab\\mllearn\\file_tree.ipynb\n",
      "C:\\Users\\Galaxy Tab\\mllearn\\file_tree.py\n",
      "C:\\Users\\Galaxy Tab\\mllearn\\README.md\n",
      "C:\\Users\\Galaxy Tab\\mllearn\\Stage leçons.docx\n",
      "C:\\Users\\Galaxy Tab\\mllearn\\Untitled.ipynb\n",
      "C:\\Users\\Galaxy Tab\\mllearn\\.git\n",
      "C:\\Users\\Galaxy Tab\\mllearn\\.git\\config\n",
      "C:\\Users\\Galaxy Tab\\mllearn\\.git\\description\n",
      "C:\\Users\\Galaxy Tab\\mllearn\\.git\\HEAD\n",
      "C:\\Users\\Galaxy Tab\\mllearn\\.git\\index\n",
      "C:\\Users\\Galaxy Tab\\mllearn\\.git\\packed-refs\n",
      "C:\\Users\\Galaxy Tab\\mllearn\\.git\\hooks\n",
      "C:\\Users\\Galaxy Tab\\mllearn\\.git\\hooks\\applypatch-msg.sample\n",
      "C:\\Users\\Galaxy Tab\\mllearn\\.git\\hooks\\commit-msg.sample\n",
      "C:\\Users\\Galaxy Tab\\mllearn\\.git\\hooks\\fsmonitor-watchman.sample\n",
      "C:\\Users\\Galaxy Tab\\mllearn\\.git\\hooks\\post-update.sample\n",
      "C:\\Users\\Galaxy Tab\\mllearn\\.git\\hooks\\pre-applypatch.sample\n",
      "C:\\Users\\Galaxy Tab\\mllearn\\.git\\hooks\\pre-commit.sample\n",
      "C:\\Users\\Galaxy Tab\\mllearn\\.git\\hooks\\pre-merge-commit.sample\n",
      "C:\\Users\\Galaxy Tab\\mllearn\\.git\\hooks\\pre-push.sample\n",
      "C:\\Users\\Galaxy Tab\\mllearn\\.git\\hooks\\pre-rebase.sample\n",
      "C:\\Users\\Galaxy Tab\\mllearn\\.git\\hooks\\pre-receive.sample\n",
      "C:\\Users\\Galaxy Tab\\mllearn\\.git\\hooks\\prepare-commit-msg.sample\n",
      "C:\\Users\\Galaxy Tab\\mllearn\\.git\\hooks\\push-to-checkout.sample\n",
      "C:\\Users\\Galaxy Tab\\mllearn\\.git\\hooks\\sendemail-validate.sample\n",
      "C:\\Users\\Galaxy Tab\\mllearn\\.git\\hooks\\update.sample\n",
      "C:\\Users\\Galaxy Tab\\mllearn\\.git\\info\n",
      "C:\\Users\\Galaxy Tab\\mllearn\\.git\\info\\exclude\n",
      "C:\\Users\\Galaxy Tab\\mllearn\\.git\\logs\n",
      "C:\\Users\\Galaxy Tab\\mllearn\\.git\\logs\\HEAD\n",
      "C:\\Users\\Galaxy Tab\\mllearn\\.git\\logs\\refs\n",
      "C:\\Users\\Galaxy Tab\\mllearn\\.git\\logs\\refs\\heads\n",
      "C:\\Users\\Galaxy Tab\\mllearn\\.git\\logs\\refs\\heads\\main\n",
      "C:\\Users\\Galaxy Tab\\mllearn\\.git\\logs\\refs\\remotes\n",
      "C:\\Users\\Galaxy Tab\\mllearn\\.git\\logs\\refs\\remotes\\origin\n",
      "C:\\Users\\Galaxy Tab\\mllearn\\.git\\logs\\refs\\remotes\\origin\\HEAD\n",
      "C:\\Users\\Galaxy Tab\\mllearn\\.git\\objects\n",
      "C:\\Users\\Galaxy Tab\\mllearn\\.git\\objects\\info\n",
      "C:\\Users\\Galaxy Tab\\mllearn\\.git\\objects\\pack\n",
      "C:\\Users\\Galaxy Tab\\mllearn\\.git\\objects\\pack\\pack-eddda2c112c0ae2c8efa6356b25d0d0119cc8952.idx\n",
      "C:\\Users\\Galaxy Tab\\mllearn\\.git\\objects\\pack\\pack-eddda2c112c0ae2c8efa6356b25d0d0119cc8952.pack\n",
      "C:\\Users\\Galaxy Tab\\mllearn\\.git\\objects\\pack\\pack-eddda2c112c0ae2c8efa6356b25d0d0119cc8952.rev\n",
      "C:\\Users\\Galaxy Tab\\mllearn\\.git\\refs\n",
      "C:\\Users\\Galaxy Tab\\mllearn\\.git\\refs\\heads\n",
      "C:\\Users\\Galaxy Tab\\mllearn\\.git\\refs\\heads\\main\n",
      "C:\\Users\\Galaxy Tab\\mllearn\\.git\\refs\\remotes\n",
      "C:\\Users\\Galaxy Tab\\mllearn\\.git\\refs\\remotes\\origin\n",
      "C:\\Users\\Galaxy Tab\\mllearn\\.git\\refs\\remotes\\origin\\HEAD\n",
      "C:\\Users\\Galaxy Tab\\mllearn\\.git\\refs\\tags\n",
      "C:\\Users\\Galaxy Tab\\mllearn\\.ipynb_checkpoints\n",
      "C:\\Users\\Galaxy Tab\\mllearn\\.ipynb_checkpoints\\Untitled-checkpoint.ipynb\n"
     ]
    }
   ],
   "source": [
    "import os\n",
    "\n",
    "def get_file_tree(filename):\n",
    "    # Obtient le chemin absolu du fichier\n",
    "    abs_path = os.path.abspath(filename)\n",
    "    \n",
    "    # Obtient le nom du fichier\n",
    "    file_name = os.path.basename(abs_path)\n",
    "    \n",
    "    # Obtient le chemin du répertoire contenant le fichier\n",
    "    directory = os.path.dirname(abs_path)\n",
    "    \n",
    "    # Obtient l'arborescence du répertoire\n",
    "    tree = []\n",
    "    for dirpath, dirnames, filenames in os.walk(directory):\n",
    "        tree.append(dirpath)\n",
    "        tree.extend(os.path.join(dirpath, f) for f in filenames)\n",
    "    \n",
    "    return tree\n",
    "\n",
    "# Utilisation de la fonction pour obtenir l'arborescence du fichier 'example.txt'\n",
    "filename = \"pts EC Orgère-Barbier Altitude.shp\"\n",
    "file_tree = get_file_tree(filename)\n",
    "\n",
    "# Affichage de l'arborescence\n",
    "for item in file_tree:\n",
    "    print(item)\n"
   ]
  },
  {
   "cell_type": "code",
   "execution_count": 8,
   "id": "c815f716",
   "metadata": {},
   "outputs": [
    {
     "name": "stdout",
     "output_type": "stream",
     "text": [
      "Répertoire courant: C:\\Users\\Galaxy Tab\\mllearn\n"
     ]
    }
   ],
   "source": [
    "import os\n",
    "\n",
    "repertoire_courant = os.getcwd()\n",
    "print(\"Répertoire courant:\", repertoire_courant)\n"
   ]
  },
  {
   "cell_type": "code",
   "execution_count": 15,
   "id": "00bddf4d",
   "metadata": {},
   "outputs": [
    {
     "data": {
      "text/plain": [
       "'C:\\\\Users\\\\Galaxy Tab\\\\mllearn\\\\memo.docx'"
      ]
     },
     "execution_count": 15,
     "metadata": {},
     "output_type": "execute_result"
    }
   ],
   "source": [
    "os.path.abspath(\"memo.docx\")"
   ]
  },
  {
   "cell_type": "code",
   "execution_count": 13,
   "id": "a5b9f3ea",
   "metadata": {},
   "outputs": [
    {
     "data": {
      "text/plain": [
       "'pts EC Orgère-Barbier Altitude.shp'"
      ]
     },
     "execution_count": 13,
     "metadata": {},
     "output_type": "execute_result"
    }
   ],
   "source": [
    "filename"
   ]
  },
  {
   "cell_type": "code",
   "execution_count": 18,
   "id": "28130f5a",
   "metadata": {},
   "outputs": [
    {
     "name": "stdout",
     "output_type": "stream",
     "text": [
      "Le fichier n'a pas été trouvé dans le système.\n"
     ]
    }
   ],
   "source": [
    "import os\n",
    "\n",
    "def trouver_repertoire(nom_fichier):\n",
    "    for repertoire, sous_repertoires, fichiers in os.walk('.'):\n",
    "        if nom_fichier in fichiers:\n",
    "            chemin_absolu = os.path.abspath(os.path.join(repertoire, nom_fichier))\n",
    "            return os.path.dirname(chemin_absolu)\n",
    "\n",
    "# Nom du fichier dont vous recherchez le répertoire\n",
    "filename = \"pts EC Orgère-Barbier Altitude.shp\"\n",
    "\n",
    "# Appel de la fonction pour trouver le répertoire du fichier\n",
    "repertoire_fichier = trouver_repertoire(filename)\n",
    "\n",
    "if repertoire_fichier:\n",
    "    print(\"Répertoire du fichier:\", repertoire_fichier)\n",
    "else:\n",
    "    print(\"Le fichier n'a pas été trouvé dans le système.\")\n"
   ]
  },
  {
   "cell_type": "code",
   "execution_count": 19,
   "id": "a5677689",
   "metadata": {},
   "outputs": [
    {
     "name": "stdout",
     "output_type": "stream",
     "text": [
      "Répertoire du fichier: C:\\Users\\Galaxy Tab\\OneDrive\\Documents\\Github\n"
     ]
    }
   ],
   "source": [
    "import os\n",
    "\n",
    "def trouver_repertoire(nom_fichier):\n",
    "    for repertoire, sous_repertoires, fichiers in os.walk('/'):\n",
    "        if nom_fichier in fichiers:\n",
    "            chemin_absolu = os.path.abspath(os.path.join(repertoire, nom_fichier))\n",
    "            return os.path.dirname(chemin_absolu)\n",
    "\n",
    "# Nom du fichier dont vous recherchez le répertoire\n",
    "filename = \"memo git.docx\"\n",
    "\n",
    "# Appel de la fonction pour trouver le répertoire du fichier\n",
    "repertoire_fichier = trouver_repertoire(filename)\n",
    "\n",
    "if repertoire_fichier:\n",
    "    print(\"Répertoire du fichier:\", repertoire_fichier)\n",
    "else:\n",
    "    print(\"Le fichier n'a pas été trouvé dans le système.\")\n"
   ]
  },
  {
   "cell_type": "code",
   "execution_count": null,
   "id": "b33b2840",
   "metadata": {},
   "outputs": [],
   "source": []
  }
 ],
 "metadata": {
  "kernelspec": {
   "display_name": "Python 3 (ipykernel)",
   "language": "python",
   "name": "python3"
  },
  "language_info": {
   "codemirror_mode": {
    "name": "ipython",
    "version": 3
   },
   "file_extension": ".py",
   "mimetype": "text/x-python",
   "name": "python",
   "nbconvert_exporter": "python",
   "pygments_lexer": "ipython3",
   "version": "3.9.13"
  }
 },
 "nbformat": 4,
 "nbformat_minor": 5
}
